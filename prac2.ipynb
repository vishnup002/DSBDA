{
 "cells": [
  {
   "cell_type": "code",
   "execution_count": 1,
   "metadata": {},
   "outputs": [],
   "source": [
    "import pandas as pd\n",
    "import numpy as np\n",
    "import seaborn as sb\n",
    "\n",
    "df = pd.read_csv(\"tecdiv.csv\")"
   ]
  },
  {
   "cell_type": "code",
   "execution_count": 2,
   "metadata": {},
   "outputs": [
    {
     "data": {
      "text/html": [
       "<div>\n",
       "<style scoped>\n",
       "    .dataframe tbody tr th:only-of-type {\n",
       "        vertical-align: middle;\n",
       "    }\n",
       "\n",
       "    .dataframe tbody tr th {\n",
       "        vertical-align: top;\n",
       "    }\n",
       "\n",
       "    .dataframe thead th {\n",
       "        text-align: right;\n",
       "    }\n",
       "</style>\n",
       "<table border=\"1\" class=\"dataframe\">\n",
       "  <thead>\n",
       "    <tr style=\"text-align: right;\">\n",
       "      <th></th>\n",
       "      <th>Timestamp</th>\n",
       "      <th>Email Address</th>\n",
       "      <th>Name</th>\n",
       "      <th>Email</th>\n",
       "      <th>Roll no</th>\n",
       "      <th>PRN No.</th>\n",
       "      <th>Mobile No.</th>\n",
       "      <th>First year:   Sem 1</th>\n",
       "      <th>First year:   Sem 2</th>\n",
       "      <th>Second year:   Sem 1</th>\n",
       "      <th>Second year:   Sem 2</th>\n",
       "    </tr>\n",
       "  </thead>\n",
       "  <tbody>\n",
       "    <tr>\n",
       "      <th>0</th>\n",
       "      <td>1/17/2022 12:45:09</td>\n",
       "      <td>sejal.zambare19@pccoepune.org</td>\n",
       "      <td>Sejal Zambare</td>\n",
       "      <td>sejal.zambare19@gmail.com</td>\n",
       "      <td>TECOC359</td>\n",
       "      <td>72026841K</td>\n",
       "      <td>8208217782</td>\n",
       "      <td>8.40</td>\n",
       "      <td>8.60</td>\n",
       "      <td>9.80</td>\n",
       "      <td>9.90</td>\n",
       "    </tr>\n",
       "    <tr>\n",
       "      <th>1</th>\n",
       "      <td>1/17/2022 12:45:44</td>\n",
       "      <td>rushikesh.thorat19@pccoepune.org</td>\n",
       "      <td>Rushikesh Vilas Thorat</td>\n",
       "      <td>rushikesh.thorat19@pccoepune.org</td>\n",
       "      <td>TECOC347</td>\n",
       "      <td>72026776F</td>\n",
       "      <td>9021261925</td>\n",
       "      <td>8.14</td>\n",
       "      <td>8.14</td>\n",
       "      <td>9.32</td>\n",
       "      <td>9.82</td>\n",
       "    </tr>\n",
       "    <tr>\n",
       "      <th>2</th>\n",
       "      <td>1/17/2022 12:46:10</td>\n",
       "      <td>atharv.sontakke19@pccoepune.org</td>\n",
       "      <td>Atharv Sontakke</td>\n",
       "      <td>atharv123sontakke@gmail.com</td>\n",
       "      <td>TECOC340</td>\n",
       "      <td>72026742M</td>\n",
       "      <td>9009804629</td>\n",
       "      <td>6.61</td>\n",
       "      <td>6.61</td>\n",
       "      <td>9.14</td>\n",
       "      <td>9.14</td>\n",
       "    </tr>\n",
       "    <tr>\n",
       "      <th>3</th>\n",
       "      <td>1/17/2022 12:46:21</td>\n",
       "      <td>amisha.sherekar19@pccoepune.org</td>\n",
       "      <td>Amisha Sunil Sherekar</td>\n",
       "      <td>amisha.sherekar19@pccoepune.org</td>\n",
       "      <td>TECOC328</td>\n",
       "      <td>72026696D</td>\n",
       "      <td>8698227548</td>\n",
       "      <td>7.20</td>\n",
       "      <td>7.30</td>\n",
       "      <td>8.90</td>\n",
       "      <td>9.20</td>\n",
       "    </tr>\n",
       "    <tr>\n",
       "      <th>4</th>\n",
       "      <td>1/17/2022 12:46:31</td>\n",
       "      <td>saurabh.sawardekar19@pccoepune.org</td>\n",
       "      <td>Saurabh Raju Sawardekar</td>\n",
       "      <td>saurabh.sawardekar19@pccoepune.org</td>\n",
       "      <td>TECOC326</td>\n",
       "      <td>72026682D</td>\n",
       "      <td>7774072850</td>\n",
       "      <td>7.05</td>\n",
       "      <td>7.45</td>\n",
       "      <td>9.05</td>\n",
       "      <td>9.40</td>\n",
       "    </tr>\n",
       "  </tbody>\n",
       "</table>\n",
       "</div>"
      ],
      "text/plain": [
       "            Timestamp                       Email Address  \\\n",
       "0  1/17/2022 12:45:09       sejal.zambare19@pccoepune.org   \n",
       "1  1/17/2022 12:45:44    rushikesh.thorat19@pccoepune.org   \n",
       "2  1/17/2022 12:46:10     atharv.sontakke19@pccoepune.org   \n",
       "3  1/17/2022 12:46:21     amisha.sherekar19@pccoepune.org   \n",
       "4  1/17/2022 12:46:31  saurabh.sawardekar19@pccoepune.org   \n",
       "\n",
       "                      Name                               Email  Roll no   \\\n",
       "0            Sejal Zambare           sejal.zambare19@gmail.com  TECOC359   \n",
       "1   Rushikesh Vilas Thorat    rushikesh.thorat19@pccoepune.org  TECOC347   \n",
       "2          Atharv Sontakke         atharv123sontakke@gmail.com  TECOC340   \n",
       "3    Amisha Sunil Sherekar     amisha.sherekar19@pccoepune.org  TECOC328   \n",
       "4  Saurabh Raju Sawardekar  saurabh.sawardekar19@pccoepune.org  TECOC326   \n",
       "\n",
       "     PRN No.  Mobile No.  First year:   Sem 1  First year:   Sem 2  \\\n",
       "0  72026841K  8208217782                 8.40                 8.60   \n",
       "1  72026776F  9021261925                 8.14                 8.14   \n",
       "2  72026742M  9009804629                 6.61                 6.61   \n",
       "3  72026696D  8698227548                 7.20                 7.30   \n",
       "4  72026682D  7774072850                 7.05                 7.45   \n",
       "\n",
       "   Second year:   Sem 1  Second year:   Sem 2  \n",
       "0                  9.80                  9.90  \n",
       "1                  9.32                  9.82  \n",
       "2                  9.14                  9.14  \n",
       "3                  8.90                  9.20  \n",
       "4                  9.05                  9.40  "
      ]
     },
     "execution_count": 2,
     "metadata": {},
     "output_type": "execute_result"
    }
   ],
   "source": [
    "df.head()"
   ]
  },
  {
   "cell_type": "code",
   "execution_count": 3,
   "metadata": {},
   "outputs": [
    {
     "data": {
      "text/plain": [
       "Timestamp               0\n",
       "Email Address           0\n",
       "Name                    0\n",
       "Email                   0\n",
       "Roll no                 0\n",
       "PRN No.                 0\n",
       "Mobile No.              0\n",
       "First year:   Sem 1     0\n",
       "First year:   Sem 2     0\n",
       "Second year:   Sem 1    0\n",
       "Second year:   Sem 2    0\n",
       "dtype: int64"
      ]
     },
     "execution_count": 3,
     "metadata": {},
     "output_type": "execute_result"
    }
   ],
   "source": [
    "df.isnull().sum()"
   ]
  },
  {
   "cell_type": "code",
   "execution_count": 4,
   "metadata": {},
   "outputs": [
    {
     "data": {
      "text/plain": [
       "Timestamp               64\n",
       "Email Address           64\n",
       "Name                    64\n",
       "Email                   64\n",
       "Roll no                 64\n",
       "PRN No.                 64\n",
       "Mobile No.              64\n",
       "First year:   Sem 1     64\n",
       "First year:   Sem 2     64\n",
       "Second year:   Sem 1    64\n",
       "Second year:   Sem 2    64\n",
       "dtype: int64"
      ]
     },
     "execution_count": 4,
     "metadata": {},
     "output_type": "execute_result"
    }
   ],
   "source": [
    "df.notnull().sum()"
   ]
  },
  {
   "cell_type": "code",
   "execution_count": 5,
   "metadata": {},
   "outputs": [
    {
     "data": {
      "text/plain": [
       "(64, 11)"
      ]
     },
     "execution_count": 5,
     "metadata": {},
     "output_type": "execute_result"
    }
   ],
   "source": [
    "df.shape"
   ]
  },
  {
   "cell_type": "code",
   "execution_count": 6,
   "metadata": {},
   "outputs": [
    {
     "data": {
      "text/plain": [
       "Index(['Timestamp', 'Email Address', 'Name', 'Email', 'Roll no ', 'PRN No.',\n",
       "       'Mobile No.', 'First year:   Sem 1', 'First year:   Sem 2',\n",
       "       'Second year:   Sem 1', 'Second year:   Sem 2'],\n",
       "      dtype='object')"
      ]
     },
     "execution_count": 6,
     "metadata": {},
     "output_type": "execute_result"
    }
   ],
   "source": [
    "df.columns"
   ]
  },
  {
   "attachments": {},
   "cell_type": "markdown",
   "metadata": {},
   "source": [
    "finding outliers using boxplot"
   ]
  },
  {
   "cell_type": "code",
   "execution_count": 7,
   "metadata": {},
   "outputs": [
    {
     "data": {
      "text/plain": [
       "<AxesSubplot: xlabel='First year:   Sem 2'>"
      ]
     },
     "execution_count": 7,
     "metadata": {},
     "output_type": "execute_result"
    },
    {
     "data": {
      "image/png": "[encoded data removed]",
      "text/plain": [
       "<Figure size 640x480 with 1 Axes>"
      ]
     },
     "metadata": {},
     "output_type": "display_data"
    }
   ],
   "source": [
    "sb.boxplot(x=df[\"First year:   Sem 2\"])"
   ]
  },
  {
   "cell_type": "code",
   "execution_count": 8,
   "metadata": {},
   "outputs": [
    {
     "data": {
      "text/plain": [
       "<AxesSubplot: ylabel='Second year:   Sem 2'>"
      ]
     },
     "execution_count": 8,
     "metadata": {},
     "output_type": "execute_result"
    },
    {
     "data": {
      "image/png": "[encoded data removed]",
      "text/plain": [
       "<Figure size 640x480 with 1 Axes>"
      ]
     },
     "metadata": {},
     "output_type": "display_data"
    }
   ],
   "source": [
    "sb.boxplot(data = df,y=\"Second year:   Sem 2\",color='y')"
   ]
  },
  {
   "cell_type": "code",
   "execution_count": 9,
   "metadata": {},
   "outputs": [
    {
     "data": {
      "text/html": [
       "<div>\n",
       "<style scoped>\n",
       "    .dataframe tbody tr th:only-of-type {\n",
       "        vertical-align: middle;\n",
       "    }\n",
       "\n",
       "    .dataframe tbody tr th {\n",
       "        vertical-align: top;\n",
       "    }\n",
       "\n",
       "    .dataframe thead th {\n",
       "        text-align: right;\n",
       "    }\n",
       "</style>\n",
       "<table border=\"1\" class=\"dataframe\">\n",
       "  <thead>\n",
       "    <tr style=\"text-align: right;\">\n",
       "      <th></th>\n",
       "      <th>total_bill</th>\n",
       "      <th>tip</th>\n",
       "      <th>sex</th>\n",
       "      <th>smoker</th>\n",
       "      <th>day</th>\n",
       "      <th>time</th>\n",
       "      <th>size</th>\n",
       "    </tr>\n",
       "  </thead>\n",
       "  <tbody>\n",
       "    <tr>\n",
       "      <th>0</th>\n",
       "      <td>16.99</td>\n",
       "      <td>1.01</td>\n",
       "      <td>Female</td>\n",
       "      <td>No</td>\n",
       "      <td>Sun</td>\n",
       "      <td>Dinner</td>\n",
       "      <td>2</td>\n",
       "    </tr>\n",
       "    <tr>\n",
       "      <th>1</th>\n",
       "      <td>10.34</td>\n",
       "      <td>1.66</td>\n",
       "      <td>Male</td>\n",
       "      <td>No</td>\n",
       "      <td>Sun</td>\n",
       "      <td>Dinner</td>\n",
       "      <td>3</td>\n",
       "    </tr>\n",
       "    <tr>\n",
       "      <th>2</th>\n",
       "      <td>21.01</td>\n",
       "      <td>3.50</td>\n",
       "      <td>Male</td>\n",
       "      <td>No</td>\n",
       "      <td>Sun</td>\n",
       "      <td>Dinner</td>\n",
       "      <td>3</td>\n",
       "    </tr>\n",
       "    <tr>\n",
       "      <th>3</th>\n",
       "      <td>23.68</td>\n",
       "      <td>3.31</td>\n",
       "      <td>Male</td>\n",
       "      <td>No</td>\n",
       "      <td>Sun</td>\n",
       "      <td>Dinner</td>\n",
       "      <td>2</td>\n",
       "    </tr>\n",
       "    <tr>\n",
       "      <th>4</th>\n",
       "      <td>24.59</td>\n",
       "      <td>3.61</td>\n",
       "      <td>Female</td>\n",
       "      <td>No</td>\n",
       "      <td>Sun</td>\n",
       "      <td>Dinner</td>\n",
       "      <td>4</td>\n",
       "    </tr>\n",
       "  </tbody>\n",
       "</table>\n",
       "</div>"
      ],
      "text/plain": [
       "   total_bill   tip     sex smoker  day    time  size\n",
       "0       16.99  1.01  Female     No  Sun  Dinner     2\n",
       "1       10.34  1.66    Male     No  Sun  Dinner     3\n",
       "2       21.01  3.50    Male     No  Sun  Dinner     3\n",
       "3       23.68  3.31    Male     No  Sun  Dinner     2\n",
       "4       24.59  3.61  Female     No  Sun  Dinner     4"
      ]
     },
     "execution_count": 9,
     "metadata": {},
     "output_type": "execute_result"
    }
   ],
   "source": [
    "data= pd.read_csv(\"tips.csv\")\n",
    "data.head()"
   ]
  },
  {
   "cell_type": "code",
   "execution_count": 10,
   "metadata": {},
   "outputs": [
    {
     "data": {
      "text/plain": [
       "<AxesSubplot: xlabel='sex', ylabel='tip'>"
      ]
     },
     "execution_count": 10,
     "metadata": {},
     "output_type": "execute_result"
    },
    {
     "data": {
      "image/png": "[encoded data removed]",
      "text/plain": [
       "<Figure size 640x480 with 1 Axes>"
      ]
     },
     "metadata": {},
     "output_type": "display_data"
    }
   ],
   "source": [
    "sb.boxplot(data= data,x='sex',y='tip',hue='sex')"
   ]
  },
  {
   "cell_type": "code",
   "execution_count": 11,
   "metadata": {},
   "outputs": [
    {
     "data": {
      "text/plain": [
       "<AxesSubplot: >"
      ]
     },
     "execution_count": 11,
     "metadata": {},
     "output_type": "execute_result"
    },
    {
     "data": {
      "image/png": "[encoded data removed]",
      "text/plain": [
       "<Figure size 640x480 with 1 Axes>"
      ]
     },
     "metadata": {},
     "output_type": "display_data"
    }
   ],
   "source": [
    "sb.boxplot(data,orient='h')"
   ]
  }
 ],
 "metadata": {
  "kernelspec": {
   "display_name": "Python 3",
   "language": "python",
   "name": "python3"
  },
  "language_info": {
   "codemirror_mode": {
    "name": "ipython",
    "version": 3
   },
   "file_extension": ".py",
   "mimetype": "text/x-python",
   "name": "python",
   "nbconvert_exporter": "python",
   "pygments_lexer": "ipython3",
   "version": "3.11.1"
  },
  "orig_nbformat": 4
 },
 "nbformat": 4,
 "nbformat_minor": 2
}
